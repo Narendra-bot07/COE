{
 "cells": [
  {
   "cell_type": "code",
   "execution_count": 1,
   "id": "a8e50cae-c589-4014-b453-ce4394c7b3b4",
   "metadata": {},
   "outputs": [],
   "source": [
    "import numpy as np"
   ]
  },
  {
   "cell_type": "markdown",
   "id": "fbe95a67-64b0-4ce0-8803-bd1dfc3f0724",
   "metadata": {},
   "source": [
    "### 1.\tArray Creation\n",
    "\tCreate a 1D array of numbers from 10 to 50.\n",
    "\tCreate a 3x3 array of random numbers between 0 and 1.\n"
   ]
  },
  {
   "cell_type": "code",
   "execution_count": 2,
   "id": "47ba8522-436e-482a-90fa-61241a3193b2",
   "metadata": {},
   "outputs": [],
   "source": [
    "_1d_array = np.arange(10,51)"
   ]
  },
  {
   "cell_type": "code",
   "execution_count": 3,
   "id": "31893aeb-b256-40ee-966f-2c2883926564",
   "metadata": {},
   "outputs": [
    {
     "data": {
      "text/plain": [
       "array([10, 11, 12, 13, 14, 15, 16, 17, 18, 19, 20, 21, 22, 23, 24, 25, 26,\n",
       "       27, 28, 29, 30, 31, 32, 33, 34, 35, 36, 37, 38, 39, 40, 41, 42, 43,\n",
       "       44, 45, 46, 47, 48, 49, 50])"
      ]
     },
     "execution_count": 3,
     "metadata": {},
     "output_type": "execute_result"
    }
   ],
   "source": [
    "_1d_array"
   ]
  },
  {
   "cell_type": "code",
   "execution_count": 5,
   "id": "2acd756d-cadc-4a19-8505-38eb9b1ce762",
   "metadata": {},
   "outputs": [],
   "source": [
    "_3x3_array = np.random.rand(3,3)"
   ]
  },
  {
   "cell_type": "code",
   "execution_count": 6,
   "id": "612da6d2-2f29-421d-8595-5d097be8c362",
   "metadata": {},
   "outputs": [
    {
     "data": {
      "text/plain": [
       "array([[0.44699236, 0.68078969, 0.99423686],\n",
       "       [0.85173865, 0.72488456, 0.16293088],\n",
       "       [0.41165731, 0.13461133, 0.04982834]])"
      ]
     },
     "execution_count": 6,
     "metadata": {},
     "output_type": "execute_result"
    }
   ],
   "source": [
    "_3x3_array"
   ]
  },
  {
   "cell_type": "markdown",
   "id": "98b51f44-b280-45fa-a3a2-90710f3e18ec",
   "metadata": {},
   "source": [
    "### 2.\tArray Attributes\n",
    "\tFind the shape, size, and data type of the array you created in the previous task.\n"
   ]
  },
  {
   "cell_type": "code",
   "execution_count": 9,
   "id": "d590742f-932d-45b9-84b0-6e1cad23a19e",
   "metadata": {},
   "outputs": [
    {
     "name": "stdout",
     "output_type": "stream",
     "text": [
      "1D array shape:(41,)\n",
      "1D array size:41\n",
      "1D array datatype:int32\n"
     ]
    }
   ],
   "source": [
    "print(f'1D array shape:{_1d_array.shape}\\n1D array size:{_1d_array.size}\\n1D array datatype:{_1d_array.dtype}')"
   ]
  },
  {
   "cell_type": "markdown",
   "id": "b7bfdcaf-bcb3-4102-9b8a-c921dd62762c",
   "metadata": {},
   "source": [
    "### 3.\tBasic Operations\n",
    "    Add 5 to every element of a 1D array.\n",
    "\tMultiply two 2D arrays element-wise.\n"
   ]
  },
  {
   "cell_type": "code",
   "execution_count": 10,
   "id": "20f277b0-9b51-4fd6-9210-e2306b0e3536",
   "metadata": {},
   "outputs": [
    {
     "data": {
      "text/plain": [
       "array([15, 16, 17, 18, 19, 20, 21, 22, 23, 24, 25, 26, 27, 28, 29, 30, 31,\n",
       "       32, 33, 34, 35, 36, 37, 38, 39, 40, 41, 42, 43, 44, 45, 46, 47, 48,\n",
       "       49, 50, 51, 52, 53, 54, 55])"
      ]
     },
     "execution_count": 10,
     "metadata": {},
     "output_type": "execute_result"
    }
   ],
   "source": [
    "_1d_array+5"
   ]
  },
  {
   "cell_type": "code",
   "execution_count": 12,
   "id": "acbfd34e-d838-4249-8ad1-1cf10e7e28b7",
   "metadata": {},
   "outputs": [],
   "source": [
    "a = np.array([[1,2,3],[3,4,5]])"
   ]
  },
  {
   "cell_type": "code",
   "execution_count": 13,
   "id": "c5a5b041-99fb-4eb6-838c-77ea489684bc",
   "metadata": {},
   "outputs": [],
   "source": [
    "b = np.array([[6,7,8],[3,9,1]])"
   ]
  },
  {
   "cell_type": "code",
   "execution_count": 14,
   "id": "b3596874-af01-4f77-9153-54ca12275b81",
   "metadata": {},
   "outputs": [
    {
     "data": {
      "text/plain": [
       "array([[ 6, 14, 24],\n",
       "       [ 9, 36,  5]])"
      ]
     },
     "execution_count": 14,
     "metadata": {},
     "output_type": "execute_result"
    }
   ],
   "source": [
    "a*b"
   ]
  },
  {
   "cell_type": "markdown",
   "id": "8bde4c26-7420-47ca-9f63-07b4782bcff2",
   "metadata": {},
   "source": [
    "### 4.\tIndexing and Slicing\n",
    "\tCreate a 5x5 array of integers from 1 to 25. Extract:\n",
    "\tThe first row.\n",
    "\tThe last column.\n",
    "\tA subarray of the first three rows and first two columns.\n"
   ]
  },
  {
   "cell_type": "code",
   "execution_count": 15,
   "id": "db95c9d4-c2ab-4a99-87db-2e188aecbbe9",
   "metadata": {},
   "outputs": [],
   "source": [
    "nums = np.arange(1,26).reshape(5,5)"
   ]
  },
  {
   "cell_type": "code",
   "execution_count": 16,
   "id": "e8011b36-736d-468e-9cd7-ccc6c412018e",
   "metadata": {},
   "outputs": [
    {
     "data": {
      "text/plain": [
       "array([[ 1,  2,  3,  4,  5],\n",
       "       [ 6,  7,  8,  9, 10],\n",
       "       [11, 12, 13, 14, 15],\n",
       "       [16, 17, 18, 19, 20],\n",
       "       [21, 22, 23, 24, 25]])"
      ]
     },
     "execution_count": 16,
     "metadata": {},
     "output_type": "execute_result"
    }
   ],
   "source": [
    "nums"
   ]
  },
  {
   "cell_type": "code",
   "execution_count": 18,
   "id": "fce61eab-de43-4df3-aa2f-b5aeda4df960",
   "metadata": {},
   "outputs": [
    {
     "data": {
      "text/plain": [
       "array([1, 2, 3, 4, 5])"
      ]
     },
     "execution_count": 18,
     "metadata": {},
     "output_type": "execute_result"
    }
   ],
   "source": [
    "nums[0]"
   ]
  },
  {
   "cell_type": "code",
   "execution_count": 19,
   "id": "aabbe449-bd35-4407-bba3-b813662e40d0",
   "metadata": {},
   "outputs": [
    {
     "data": {
      "text/plain": [
       "array([21, 22, 23, 24, 25])"
      ]
     },
     "execution_count": 19,
     "metadata": {},
     "output_type": "execute_result"
    }
   ],
   "source": [
    "nums[-1]"
   ]
  },
  {
   "cell_type": "code",
   "execution_count": 25,
   "id": "8f10d43b-e490-4df0-af55-5c5a18a2c56c",
   "metadata": {},
   "outputs": [
    {
     "data": {
      "text/plain": [
       "array([[ 1,  2],\n",
       "       [ 6,  7],\n",
       "       [11, 12]])"
      ]
     },
     "execution_count": 25,
     "metadata": {},
     "output_type": "execute_result"
    }
   ],
   "source": [
    "nums[:3,:2]"
   ]
  },
  {
   "cell_type": "markdown",
   "id": "5c319c57-8c58-42b5-a9b4-a609200bbc49",
   "metadata": {},
   "source": [
    "### 5.\tAggregation\n",
    "\tCreate a 10-element array of random integers between 1 and 100. Find:\n",
    "\tThe maximum value.\n",
    "\tThe minimum value.\n",
    "\tThe mean and standard deviation.\n"
   ]
  },
  {
   "cell_type": "code",
   "execution_count": 38,
   "id": "e142ee59-77d9-4d40-a7a0-4b01c562b670",
   "metadata": {},
   "outputs": [],
   "source": [
    "array_10 = np.random.randint(1,101,10)"
   ]
  },
  {
   "cell_type": "code",
   "execution_count": 40,
   "id": "506165b3-50a6-4c2a-ba60-098c921a5dc8",
   "metadata": {},
   "outputs": [
    {
     "data": {
      "text/plain": [
       "array([ 8, 73, 50, 41, 95, 86, 60, 95, 72, 30])"
      ]
     },
     "execution_count": 40,
     "metadata": {},
     "output_type": "execute_result"
    }
   ],
   "source": [
    "array_10"
   ]
  },
  {
   "cell_type": "code",
   "execution_count": 41,
   "id": "df3e7a6a-240d-4e1d-a5f2-4c4286de3e6b",
   "metadata": {},
   "outputs": [
    {
     "data": {
      "text/plain": [
       "95"
      ]
     },
     "execution_count": 41,
     "metadata": {},
     "output_type": "execute_result"
    }
   ],
   "source": [
    "array_10.max()"
   ]
  },
  {
   "cell_type": "code",
   "execution_count": 42,
   "id": "c8b49a80-0f13-4baa-9f17-5472bc9c0298",
   "metadata": {},
   "outputs": [
    {
     "data": {
      "text/plain": [
       "8"
      ]
     },
     "execution_count": 42,
     "metadata": {},
     "output_type": "execute_result"
    }
   ],
   "source": [
    "array_10.min()"
   ]
  },
  {
   "cell_type": "code",
   "execution_count": 43,
   "id": "b4614683-0fe6-4f49-82c0-6899093baad3",
   "metadata": {},
   "outputs": [
    {
     "data": {
      "text/plain": [
       "61.0"
      ]
     },
     "execution_count": 43,
     "metadata": {},
     "output_type": "execute_result"
    }
   ],
   "source": [
    "array_10.mean()"
   ]
  },
  {
   "cell_type": "code",
   "execution_count": 44,
   "id": "af19f3b8-9c9c-4e5d-b614-60b0f89fa754",
   "metadata": {},
   "outputs": [
    {
     "data": {
      "text/plain": [
       "27.375171232341177"
      ]
     },
     "execution_count": 44,
     "metadata": {},
     "output_type": "execute_result"
    }
   ],
   "source": [
    "array_10.std()"
   ]
  },
  {
   "cell_type": "markdown",
   "id": "19f832f7-3575-40ce-a3c7-399ec57e83e6",
   "metadata": {},
   "source": [
    "#### 6.\tReshaping\n",
    "    Convert a 1D array of numbers from 1 to 12 into a 3x4 matrix.\n"
   ]
  },
  {
   "cell_type": "code",
   "execution_count": 45,
   "id": "a725f7a7-d0e5-4f67-977e-029d855d2f2a",
   "metadata": {},
   "outputs": [],
   "source": [
    "arra_1d = np.arange(1,13)"
   ]
  },
  {
   "cell_type": "code",
   "execution_count": 47,
   "id": "02ca7fd3-4d6c-44e5-9377-93ef7fac3556",
   "metadata": {},
   "outputs": [
    {
     "data": {
      "text/plain": [
       "array([[ 1,  2,  3,  4],\n",
       "       [ 5,  6,  7,  8],\n",
       "       [ 9, 10, 11, 12]])"
      ]
     },
     "execution_count": 47,
     "metadata": {},
     "output_type": "execute_result"
    }
   ],
   "source": [
    "arra_1d.reshape(3,4)"
   ]
  },
  {
   "cell_type": "markdown",
   "id": "1026d1b5-965c-4fa6-b383-b41f2b02ba53",
   "metadata": {},
   "source": [
    "### 7.\tBroadcasting\n",
    "\tCreate a 3x3 matrix of ones. Add a 1D array [1, 2, 3] to each row.\n"
   ]
  },
  {
   "cell_type": "code",
   "execution_count": 48,
   "id": "02d928c4-b0fe-48a7-b93b-09668a3e3855",
   "metadata": {},
   "outputs": [],
   "source": [
    "numpy_ones = np.ones((3,3))"
   ]
  },
  {
   "cell_type": "code",
   "execution_count": 50,
   "id": "35a3e85e-abd5-4f0a-b215-21da5f406534",
   "metadata": {},
   "outputs": [
    {
     "data": {
      "text/plain": [
       "array([[2., 3., 4.],\n",
       "       [2., 3., 4.],\n",
       "       [2., 3., 4.]])"
      ]
     },
     "execution_count": 50,
     "metadata": {},
     "output_type": "execute_result"
    }
   ],
   "source": [
    "numpy_ones+np.array([1,2,3])"
   ]
  },
  {
   "cell_type": "markdown",
   "id": "2a34ac56-f16b-4f62-96d7-903f267ddc02",
   "metadata": {},
   "source": [
    "### 8.\tFiltering\n",
    "\tCreate a 1D array of random integers between 1 and 50. Extract all elements that are divisible by 5\n"
   ]
  },
  {
   "cell_type": "code",
   "execution_count": 52,
   "id": "6bf54726-a814-41ba-991f-b30c29d00077",
   "metadata": {},
   "outputs": [],
   "source": [
    "array_1_to_50 = np.arange(1,51)"
   ]
  },
  {
   "cell_type": "code",
   "execution_count": 55,
   "id": "8c3491a8-9329-40e2-b1df-c4cb9b9e38d2",
   "metadata": {},
   "outputs": [],
   "source": [
    "divible_by_5 = array_1_to_50[array_1_to_50%5==0]"
   ]
  },
  {
   "cell_type": "code",
   "execution_count": 56,
   "id": "cb325195-4c2d-4f3f-b5a9-95fdb1a92231",
   "metadata": {},
   "outputs": [
    {
     "data": {
      "text/plain": [
       "array([ 5, 10, 15, 20, 25, 30, 35, 40, 45, 50])"
      ]
     },
     "execution_count": 56,
     "metadata": {},
     "output_type": "execute_result"
    }
   ],
   "source": [
    "divible_by_5"
   ]
  },
  {
   "cell_type": "markdown",
   "id": "4ee7b8bc-15be-446c-85e4-fa37a9dbbc0b",
   "metadata": {},
   "source": [
    "### 9.\tMatrix Multiplication\n",
    "\tCreate two 2x2 matrices and perform matrix multiplication.\n"
   ]
  },
  {
   "cell_type": "code",
   "execution_count": 57,
   "id": "67715b52-20e0-4d58-a523-b7b83c2fc4b9",
   "metadata": {},
   "outputs": [
    {
     "data": {
      "text/plain": [
       "array([[ 6, 14, 24],\n",
       "       [ 9, 36,  5]])"
      ]
     },
     "execution_count": 57,
     "metadata": {},
     "output_type": "execute_result"
    }
   ],
   "source": [
    "a = np.array([[1,2,3],[3,4,5]])\n",
    "b = np.array([[6,7,8],[3,9,1]])\n",
    "a*b"
   ]
  },
  {
   "cell_type": "markdown",
   "id": "28ff95b5-4e4f-4c6b-baee-7ba52b596923",
   "metadata": {},
   "source": [
    "### 10.\tAdvanced Indexing\n",
    "    Given a 4x4 array, use fancy indexing to extract the diagonal elements.\n"
   ]
  },
  {
   "cell_type": "code",
   "execution_count": 80,
   "id": "be416899-0e5e-42d1-90c5-e5a8726bb6f1",
   "metadata": {},
   "outputs": [],
   "source": [
    "arr = np.array([[1, 2, 3,6],\n",
    "                [4, 5, 6,2],\n",
    "                [7, 8, 9,10],\n",
    "               [10,11,12,15]])"
   ]
  },
  {
   "cell_type": "code",
   "execution_count": 81,
   "id": "42c3b91d-512b-4231-9885-c20576f3e6e4",
   "metadata": {},
   "outputs": [],
   "source": [
    "index = np.arange(arr.shape[0])"
   ]
  },
  {
   "cell_type": "markdown",
   "id": "a43d60d8-6fa4-4559-bbe7-1255ffaecd0e",
   "metadata": {},
   "source": [
    "### using advanced slicing"
   ]
  },
  {
   "cell_type": "code",
   "execution_count": 82,
   "id": "3287d521-3985-498f-931d-3abce2ba6436",
   "metadata": {},
   "outputs": [
    {
     "data": {
      "text/plain": [
       "array([0, 1, 2, 3])"
      ]
     },
     "execution_count": 82,
     "metadata": {},
     "output_type": "execute_result"
    }
   ],
   "source": [
    "index"
   ]
  },
  {
   "cell_type": "code",
   "execution_count": 83,
   "id": "4e5ccf89-da1f-44ac-8464-086f5d8d37c2",
   "metadata": {},
   "outputs": [
    {
     "data": {
      "text/plain": [
       "array([ 1,  5,  9, 15])"
      ]
     },
     "execution_count": 83,
     "metadata": {},
     "output_type": "execute_result"
    }
   ],
   "source": [
    "arr[index,index]"
   ]
  },
  {
   "cell_type": "code",
   "execution_count": 88,
   "id": "09237a1c-9639-42d5-ac0e-8a46a43eb281",
   "metadata": {},
   "outputs": [
    {
     "data": {
      "text/plain": [
       "5"
      ]
     },
     "execution_count": 88,
     "metadata": {},
     "output_type": "execute_result"
    }
   ],
   "source": [
    "arr[1,1]"
   ]
  },
  {
   "cell_type": "markdown",
   "id": "0148bc0a-598a-4f63-8321-94544fd0759c",
   "metadata": {},
   "source": [
    "### using inbuild functions"
   ]
  },
  {
   "cell_type": "code",
   "execution_count": 66,
   "id": "3bbc935e-d968-4ffb-9b1b-0fafa02bd48c",
   "metadata": {},
   "outputs": [
    {
     "data": {
      "text/plain": [
       "array([1, 5, 9])"
      ]
     },
     "execution_count": 66,
     "metadata": {},
     "output_type": "execute_result"
    }
   ],
   "source": [
    "np.diag(arr)"
   ]
  },
  {
   "cell_type": "code",
   "execution_count": 67,
   "id": "cc5ebbae-99b5-41a0-be01-08db923f381b",
   "metadata": {},
   "outputs": [
    {
     "data": {
      "text/plain": [
       "array([1, 5, 9])"
      ]
     },
     "execution_count": 67,
     "metadata": {},
     "output_type": "execute_result"
    }
   ],
   "source": [
    "np.diagonal(arr)"
   ]
  },
  {
   "cell_type": "code",
   "execution_count": null,
   "id": "ac8aa08b-37ce-4045-a536-f00bc8b07d80",
   "metadata": {},
   "outputs": [],
   "source": []
  },
  {
   "cell_type": "code",
   "execution_count": null,
   "id": "ddafb0b2-c109-476c-9900-832b287debe5",
   "metadata": {},
   "outputs": [],
   "source": []
  }
 ],
 "metadata": {
  "kernelspec": {
   "display_name": "Python 3 (ipykernel)",
   "language": "python",
   "name": "python3"
  },
  "language_info": {
   "codemirror_mode": {
    "name": "ipython",
    "version": 3
   },
   "file_extension": ".py",
   "mimetype": "text/x-python",
   "name": "python",
   "nbconvert_exporter": "python",
   "pygments_lexer": "ipython3",
   "version": "3.12.5"
  }
 },
 "nbformat": 4,
 "nbformat_minor": 5
}
