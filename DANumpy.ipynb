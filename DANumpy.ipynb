{
 "cells": [
  {
   "cell_type": "code",
   "execution_count": 1,
   "id": "4bb2be15-be19-4b84-82f0-326d6d5fe399",
   "metadata": {},
   "outputs": [],
   "source": [
    "import numpy as np"
   ]
  },
  {
   "cell_type": "code",
   "execution_count": 2,
   "id": "e75b7a66-b52c-4eaf-97e0-06ea02731818",
   "metadata": {},
   "outputs": [],
   "source": [
    "x = np.array([1,2,3,4,5,6])\n",
    "y = np.array([6,5,4,3,2,1])"
   ]
  },
  {
   "cell_type": "code",
   "execution_count": 3,
   "id": "3d018a4e-ee9f-443b-8395-d61367611102",
   "metadata": {},
   "outputs": [
    {
     "data": {
      "text/plain": [
       "array([7, 7, 7, 7, 7, 7])"
      ]
     },
     "execution_count": 3,
     "metadata": {},
     "output_type": "execute_result"
    }
   ],
   "source": [
    "x+y"
   ]
  },
  {
   "cell_type": "code",
   "execution_count": 4,
   "id": "60325aef-7b6c-452b-92bf-7214794131d5",
   "metadata": {},
   "outputs": [],
   "source": [
    "x=np.array([2,4,1])"
   ]
  },
  {
   "cell_type": "code",
   "execution_count": 6,
   "id": "c32bba86-6012-4db4-a86a-3813d3faa741",
   "metadata": {},
   "outputs": [],
   "source": [
    "y=np.array([[1,2,3],[4,5,6]])"
   ]
  },
  {
   "cell_type": "code",
   "execution_count": 34,
   "id": "f7cfd99b-a098-4e31-ad69-9dca930377a5",
   "metadata": {},
   "outputs": [
    {
     "data": {
      "text/plain": [
       "array([[2, 3],\n",
       "       [5, 6]])"
      ]
     },
     "execution_count": 34,
     "metadata": {},
     "output_type": "execute_result"
    }
   ],
   "source": [
    "y[:,1:]"
   ]
  },
  {
   "cell_type": "code",
   "execution_count": 8,
   "id": "193f0750-e3f2-4b09-82a4-b82b224be991",
   "metadata": {},
   "outputs": [
    {
     "data": {
      "text/plain": [
       "array([[0., 0., 0.],\n",
       "       [0., 0., 0.],\n",
       "       [0., 0., 0.]])"
      ]
     },
     "execution_count": 8,
     "metadata": {},
     "output_type": "execute_result"
    }
   ],
   "source": [
    "np.zeros((3,3))"
   ]
  },
  {
   "cell_type": "code",
   "execution_count": 12,
   "id": "58e3719c-0a47-4d55-a103-79c27c490af7",
   "metadata": {},
   "outputs": [
    {
     "data": {
      "text/plain": [
       "array([[0, 0, 0],\n",
       "       [0, 0, 0]])"
      ]
     },
     "execution_count": 12,
     "metadata": {},
     "output_type": "execute_result"
    }
   ],
   "source": [
    "np.zeros_like(y)"
   ]
  },
  {
   "cell_type": "code",
   "execution_count": 13,
   "id": "50b2e94b-4cc2-4002-9736-617101e10ba1",
   "metadata": {},
   "outputs": [
    {
     "data": {
      "text/plain": [
       "array([[1., 1., 1., 1., 1.],\n",
       "       [1., 1., 1., 1., 1.],\n",
       "       [1., 1., 1., 1., 1.],\n",
       "       [1., 1., 1., 1., 1.],\n",
       "       [1., 1., 1., 1., 1.]])"
      ]
     },
     "execution_count": 13,
     "metadata": {},
     "output_type": "execute_result"
    }
   ],
   "source": [
    "np.ones((5,5))"
   ]
  },
  {
   "cell_type": "code",
   "execution_count": 18,
   "id": "c044d6eb-760e-4eff-a51c-969ff84df0c1",
   "metadata": {},
   "outputs": [
    {
     "data": {
      "text/plain": [
       "array([[0.17611573, 0.76102934, 0.7237532 , 0.18889697],\n",
       "       [0.41131064, 0.28081042, 0.2266373 , 0.04211235],\n",
       "       [0.42702229, 0.69372463, 0.09054956, 0.79787826],\n",
       "       [0.4907434 , 0.13118182, 0.38545417, 0.98756155]])"
      ]
     },
     "execution_count": 18,
     "metadata": {},
     "output_type": "execute_result"
    }
   ],
   "source": [
    "np.random.random((4,4))"
   ]
  },
  {
   "cell_type": "code",
   "execution_count": 17,
   "id": "833b80eb-34bb-4860-9605-a1c038fcf232",
   "metadata": {},
   "outputs": [
    {
     "data": {
      "text/plain": [
       "4"
      ]
     },
     "execution_count": 17,
     "metadata": {},
     "output_type": "execute_result"
    }
   ],
   "source": [
    "np.random.randint(1,5)"
   ]
  },
  {
   "cell_type": "code",
   "execution_count": 20,
   "id": "17a1c938-457e-4459-a360-4ea92a514546",
   "metadata": {},
   "outputs": [
    {
     "data": {
      "text/plain": [
       "0.08030154228642272"
      ]
     },
     "execution_count": 20,
     "metadata": {},
     "output_type": "execute_result"
    }
   ],
   "source": [
    "np.random.random()"
   ]
  },
  {
   "cell_type": "code",
   "execution_count": 21,
   "id": "e99bb376-08c7-4956-83f0-3e1d8f95e47e",
   "metadata": {},
   "outputs": [
    {
     "data": {
      "text/plain": [
       "array([[1., 0., 0., 0.],\n",
       "       [0., 1., 0., 0.],\n",
       "       [0., 0., 1., 0.],\n",
       "       [0., 0., 0., 1.]])"
      ]
     },
     "execution_count": 21,
     "metadata": {},
     "output_type": "execute_result"
    }
   ],
   "source": [
    "np.eye(4)"
   ]
  },
  {
   "cell_type": "code",
   "execution_count": 23,
   "id": "b60ddec0-5793-4e65-bb48-0af604150dc9",
   "metadata": {},
   "outputs": [
    {
     "data": {
      "text/plain": [
       "array([0, 2, 4, 6, 8])"
      ]
     },
     "execution_count": 23,
     "metadata": {},
     "output_type": "execute_result"
    }
   ],
   "source": [
    "np.arange(0,10,2)"
   ]
  },
  {
   "cell_type": "code",
   "execution_count": 24,
   "id": "434d0e25-4db8-45d2-8642-2f796d64667b",
   "metadata": {},
   "outputs": [
    {
     "data": {
      "text/plain": [
       "(2, 3)"
      ]
     },
     "execution_count": 24,
     "metadata": {},
     "output_type": "execute_result"
    }
   ],
   "source": [
    "y.shape"
   ]
  },
  {
   "cell_type": "code",
   "execution_count": 25,
   "id": "1c2f918b-5d9f-4558-9287-54682bfb6a0e",
   "metadata": {},
   "outputs": [
    {
     "data": {
      "text/plain": [
       "6"
      ]
     },
     "execution_count": 25,
     "metadata": {},
     "output_type": "execute_result"
    }
   ],
   "source": [
    "y.size"
   ]
  },
  {
   "cell_type": "code",
   "execution_count": 26,
   "id": "9afe6191-5d67-471f-b54b-63f4ea4b1c82",
   "metadata": {},
   "outputs": [
    {
     "data": {
      "text/plain": [
       "dtype('int32')"
      ]
     },
     "execution_count": 26,
     "metadata": {},
     "output_type": "execute_result"
    }
   ],
   "source": [
    "y.dtype"
   ]
  },
  {
   "cell_type": "code",
   "execution_count": 27,
   "id": "91293511-fbf9-4098-a455-1431e2b59df8",
   "metadata": {},
   "outputs": [
    {
     "data": {
      "text/plain": [
       "2"
      ]
     },
     "execution_count": 27,
     "metadata": {},
     "output_type": "execute_result"
    }
   ],
   "source": [
    "y.ndim"
   ]
  },
  {
   "cell_type": "code",
   "execution_count": 28,
   "id": "52f2240d-9b02-4340-b0c7-529dc09a951d",
   "metadata": {},
   "outputs": [
    {
     "name": "stdout",
     "output_type": "stream",
     "text": [
      "C:\\Users\\CVR\n"
     ]
    }
   ],
   "source": [
    "cd"
   ]
  },
  {
   "cell_type": "code",
   "execution_count": 42,
   "id": "10b181c1-6f19-4f0c-8283-b7b49f76a9b7",
   "metadata": {},
   "outputs": [
    {
     "name": "stdout",
     "output_type": "stream",
     "text": [
      "147 ns ± 2.3 ns per loop (mean ± std. dev. of 7 runs, 10,000,000 loops each)\n"
     ]
    }
   ],
   "source": [
    "%%timeit\n",
    "y[:,1:]"
   ]
  },
  {
   "cell_type": "code",
   "execution_count": 58,
   "id": "b9b53aff-0088-409c-8412-d39511bb3773",
   "metadata": {},
   "outputs": [],
   "source": [
    "y = np.random.random(3)"
   ]
  },
  {
   "cell_type": "code",
   "execution_count": 59,
   "id": "ab41f957-3b68-42ed-89a9-d2125f215914",
   "metadata": {},
   "outputs": [],
   "source": [
    "x = np.random.random(3)"
   ]
  },
  {
   "cell_type": "code",
   "execution_count": 60,
   "id": "5d9ade21-efa1-4ec8-9ecc-0251440bd275",
   "metadata": {},
   "outputs": [
    {
     "data": {
      "text/plain": [
       "array([0.52107655, 0.76106591, 0.70088897])"
      ]
     },
     "execution_count": 60,
     "metadata": {},
     "output_type": "execute_result"
    }
   ],
   "source": [
    "y"
   ]
  },
  {
   "cell_type": "code",
   "execution_count": 61,
   "id": "b7038d24-3dc3-4c55-9ea6-dfef4fd18d17",
   "metadata": {},
   "outputs": [
    {
     "data": {
      "text/plain": [
       "array([0.35111079, 0.70698181, 0.33200998])"
      ]
     },
     "execution_count": 61,
     "metadata": {},
     "output_type": "execute_result"
    }
   ],
   "source": [
    "x"
   ]
  },
  {
   "cell_type": "code",
   "execution_count": 62,
   "id": "347ea3e5-f9ea-4be6-ab3e-1a84887d6801",
   "metadata": {},
   "outputs": [
    {
     "data": {
      "text/plain": [
       "array([0.87218734, 1.46804773, 1.03289894])"
      ]
     },
     "execution_count": 62,
     "metadata": {},
     "output_type": "execute_result"
    }
   ],
   "source": [
    "x+y"
   ]
  },
  {
   "cell_type": "code",
   "execution_count": 63,
   "id": "8446951a-9b64-4f22-a561-b1caaa589a57",
   "metadata": {},
   "outputs": [
    {
     "data": {
      "text/plain": [
       "array([0.1829556 , 0.53805976, 0.23270213])"
      ]
     },
     "execution_count": 63,
     "metadata": {},
     "output_type": "execute_result"
    }
   ],
   "source": [
    "x*y"
   ]
  },
  {
   "cell_type": "code",
   "execution_count": 64,
   "id": "2acae525-1351-46cf-b073-661689f2c5bf",
   "metadata": {},
   "outputs": [
    {
     "data": {
      "text/plain": [
       "array([0.67381806, 0.92893638, 0.47369839])"
      ]
     },
     "execution_count": 64,
     "metadata": {},
     "output_type": "execute_result"
    }
   ],
   "source": [
    "x/y"
   ]
  },
  {
   "cell_type": "code",
   "execution_count": 65,
   "id": "a970e80a-9ecc-49f5-ab90-26f9bf4d8134",
   "metadata": {},
   "outputs": [
    {
     "data": {
      "text/plain": [
       "array([0., 0., 0.])"
      ]
     },
     "execution_count": 65,
     "metadata": {},
     "output_type": "execute_result"
    }
   ],
   "source": [
    "x//y"
   ]
  },
  {
   "cell_type": "code",
   "execution_count": 66,
   "id": "7e54d791-07e0-4e62-ab8a-fbf8e9116e5e",
   "metadata": {},
   "outputs": [
    {
     "data": {
      "text/plain": [
       "array([0.57961767, 0.76805045, 0.46172152])"
      ]
     },
     "execution_count": 66,
     "metadata": {},
     "output_type": "execute_result"
    }
   ],
   "source": [
    "x**y"
   ]
  },
  {
   "cell_type": "code",
   "execution_count": 67,
   "id": "a9d58aae-f643-44c9-8018-a754bb707ecd",
   "metadata": {},
   "outputs": [],
   "source": [
    "x = np.random.random((3,3))"
   ]
  },
  {
   "cell_type": "code",
   "execution_count": 68,
   "id": "12024967-63da-4fca-9996-c272a28ec1cd",
   "metadata": {},
   "outputs": [],
   "source": [
    "y = np.random.random((3,3))"
   ]
  },
  {
   "cell_type": "code",
   "execution_count": 69,
   "id": "e563f15a-9997-495e-8ba1-cf42a63c11dd",
   "metadata": {},
   "outputs": [
    {
     "data": {
      "text/plain": [
       "array([[0.40637527, 0.36389465, 0.02085701],\n",
       "       [0.32819682, 0.34288298, 0.41354939],\n",
       "       [0.0317017 , 0.04407756, 0.09378824]])"
      ]
     },
     "execution_count": 69,
     "metadata": {},
     "output_type": "execute_result"
    }
   ],
   "source": [
    "x*y"
   ]
  },
  {
   "cell_type": "code",
   "execution_count": 70,
   "id": "8480ee9f-b809-4974-beea-1af35bf746c4",
   "metadata": {},
   "outputs": [
    {
     "data": {
      "text/plain": [
       "array([[ 1.1599765 ,  0.46658265, 12.53054114],\n",
       "       [ 1.9941594 ,  0.56724576,  1.12001361],\n",
       "       [ 0.08425495, 22.32606511,  0.53220816]])"
      ]
     },
     "execution_count": 70,
     "metadata": {},
     "output_type": "execute_result"
    }
   ],
   "source": [
    "x/y"
   ]
  },
  {
   "cell_type": "code",
   "execution_count": 71,
   "id": "6696bc25-09cb-4b48-a447-eafe1c9c7830",
   "metadata": {},
   "outputs": [
    {
     "data": {
      "text/plain": [
       "array([[0.80045668, 0.45703928, 0.97299778],\n",
       "       [0.91760479, 0.52914521, 0.79149293],\n",
       "       [0.162466  , 0.9996435 , 0.53304531]])"
      ]
     },
     "execution_count": 71,
     "metadata": {},
     "output_type": "execute_result"
    }
   ],
   "source": [
    "x**y"
   ]
  },
  {
   "cell_type": "code",
   "execution_count": 72,
   "id": "4808c443-c754-4111-84e4-55519eb427a5",
   "metadata": {},
   "outputs": [
    {
     "data": {
      "text/plain": [
       "1"
      ]
     },
     "execution_count": 72,
     "metadata": {},
     "output_type": "execute_result"
    }
   ],
   "source": [
    "9-8"
   ]
  },
  {
   "cell_type": "code",
   "execution_count": 73,
   "id": "ba19f15f-c2a5-4eba-b452-8834dd96ecdf",
   "metadata": {},
   "outputs": [
    {
     "data": {
      "text/plain": [
       "-2"
      ]
     },
     "execution_count": 73,
     "metadata": {},
     "output_type": "execute_result"
    }
   ],
   "source": [
    "~1"
   ]
  },
  {
   "cell_type": "code",
   "execution_count": 75,
   "id": "100ae26d-9ccf-4d57-b132-e9bc8eef9392",
   "metadata": {},
   "outputs": [
    {
     "data": {
      "text/plain": [
       "-11"
      ]
     },
     "execution_count": 75,
     "metadata": {},
     "output_type": "execute_result"
    }
   ],
   "source": [
    "~10"
   ]
  },
  {
   "cell_type": "code",
   "execution_count": 76,
   "id": "64ea0733-bf8d-4e30-82b5-d74c4539a29f",
   "metadata": {},
   "outputs": [
    {
     "data": {
      "text/plain": [
       "array([[0.88712243, 0.94940971, 0.49300091],\n",
       "       [1.07521383, 1.08757078, 0.58668977],\n",
       "       [0.57007436, 0.82683127, 0.698688  ]])"
      ]
     },
     "execution_count": 76,
     "metadata": {},
     "output_type": "execute_result"
    }
   ],
   "source": [
    "np.dot(x,y)"
   ]
  },
  {
   "cell_type": "code",
   "execution_count": 77,
   "id": "967e3e5e-3eea-4e9e-93fd-e8788ce2062e",
   "metadata": {},
   "outputs": [],
   "source": [
    "import seaborn as sns"
   ]
  },
  {
   "cell_type": "code",
   "execution_count": 81,
   "id": "3ffb95e5-be25-41bc-83d3-48d138e99240",
   "metadata": {},
   "outputs": [
    {
     "data": {
      "text/plain": [
       "<Axes: >"
      ]
     },
     "execution_count": 81,
     "metadata": {},
     "output_type": "execute_result"
    },
    {
     "data": {
      "image/png": "[encoded data removed]",
      "text/plain": [
       "<Figure size 640x480 with 1 Axes>"
      ]
     },
     "metadata": {},
     "output_type": "display_data"
    }
   ],
   "source": [
    "sns.lineplot(np.dot(x,y),marker='.')"
   ]
  },
  {
   "cell_type": "code",
   "execution_count": 79,
   "id": "377a69fb-a901-4a1c-830f-e2fd5a58c2e2",
   "metadata": {},
   "outputs": [
    {
     "data": {
      "text/plain": [
       "<Axes: >"
      ]
     },
     "execution_count": 79,
     "metadata": {},
     "output_type": "execute_result"
    },
    {
     "data": {
      "image/png": "[encoded data removed]",
      "text/plain": [
       "<Figure size 640x480 with 1 Axes>"
      ]
     },
     "metadata": {},
     "output_type": "display_data"
    }
   ],
   "source": [
    "sns.barplot(np.dot(x,y))"
   ]
  },
  {
   "cell_type": "code",
   "execution_count": 83,
   "id": "cad60d29-fde8-486c-9287-4f3207e35fe1",
   "metadata": {},
   "outputs": [
    {
     "data": {
      "text/plain": [
       "array([[1.9868995 , 1.5099131 , 1.66733019],\n",
       "       [2.24565534, 1.55429227, 1.97501102],\n",
       "       [1.05304079, 2.69664209, 1.25034105]])"
      ]
     },
     "execution_count": 83,
     "metadata": {},
     "output_type": "execute_result"
    }
   ],
   "source": [
    "np.exp(x)"
   ]
  },
  {
   "cell_type": "code",
   "execution_count": 84,
   "id": "fa43270b-0fac-4951-9c19-2c6f3dd91452",
   "metadata": {},
   "outputs": [
    {
     "data": {
      "text/plain": [
       "array([[0.82859845, 0.64191284, 0.71499906],\n",
       "       [0.89944282, 0.6640936 , 0.82496908],\n",
       "       [0.22733668, 0.99599565, 0.47266939]])"
      ]
     },
     "execution_count": 84,
     "metadata": {},
     "output_type": "execute_result"
    }
   ],
   "source": [
    "np.sqrt(x)"
   ]
  },
  {
   "cell_type": "code",
   "execution_count": 85,
   "id": "5aad357c-bf2d-48fe-a0f4-4d7c528b7bb4",
   "metadata": {},
   "outputs": [
    {
     "data": {
      "text/plain": [
       "array([[-0.37603925, -0.88660549, -0.6709481 ],\n",
       "       [-0.21195959, -0.81866435, -0.38481875],\n",
       "       [-2.96264641, -0.00802478, -1.49871818]])"
      ]
     },
     "execution_count": 85,
     "metadata": {},
     "output_type": "execute_result"
    }
   ],
   "source": [
    "np.log(x)"
   ]
  },
  {
   "cell_type": "code",
   "execution_count": null,
   "id": "ec211f4b-e325-46d5-9938-28971658bbb0",
   "metadata": {},
   "outputs": [],
   "source": []
  },
  {
   "cell_type": "code",
   "execution_count": null,
   "id": "555bc23f-540e-4c2f-9bbe-b42e20b38d2c",
   "metadata": {},
   "outputs": [],
   "source": []
  },
  {
   "cell_type": "code",
   "execution_count": null,
   "id": "8859e719-5a8e-4a79-8f39-ca9a8e8caff4",
   "metadata": {},
   "outputs": [],
   "source": []
  },
  {
   "cell_type": "code",
   "execution_count": null,
   "id": "aa363d1a-e057-4f79-aaf2-46218967fa77",
   "metadata": {},
   "outputs": [],
   "source": []
  }
 ],
 "metadata": {
  "kernelspec": {
   "display_name": "Python 3 (ipykernel)",
   "language": "python",
   "name": "python3"
  },
  "language_info": {
   "codemirror_mode": {
    "name": "ipython",
    "version": 3
   },
   "file_extension": ".py",
   "mimetype": "text/x-python",
   "name": "python",
   "nbconvert_exporter": "python",
   "pygments_lexer": "ipython3",
   "version": "3.11.5"
  }
 },
 "nbformat": 4,
 "nbformat_minor": 5
}
